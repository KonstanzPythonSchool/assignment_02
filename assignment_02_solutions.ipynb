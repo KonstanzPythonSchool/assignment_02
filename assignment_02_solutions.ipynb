{
 "cells": [
  {
   "cell_type": "markdown",
   "metadata": {},
   "source": [
    "# Info\n",
    "- [Task 1: mean value](#Task-1:-mean-value) <br>\n",
    "    Create a function to calculate the mean value of a dataset.\n",
    "- [Task 2: rolling window function](#Task-2:-rolling-window-function) <br>\n",
    "    Create a function to calculate the rolling average of a dataset.\n",
    "- [Addtional](#Addtional) <br>\n",
    "    There is some code to test correctness of your solutions and visualize your data\n",
    "    - [Test if you did correctly](#Test-if-you-did-correctly) <br>\n",
    "        You can run a test to check if your functions are correct.\n",
    "    - [Visualize your data](#Visualize-your-data) <br>\n",
    "        Some teaser for tomorrow on how to visualize your data so you can see what you did before.\n",
    "    - [real use case](#real-use-case) <br>\n",
    "        Some real use case of stock market data where the previous functions are useful.\n",
    "    "
   ]
  },
  {
   "cell_type": "markdown",
   "metadata": {},
   "source": [
    "We use the `csv` module to read the file.\n",
    "\n",
    "The module has an object `csv.reader()` which takes an iterable or file pointer and some parameters like `delimiter`.\n",
    "\n",
    "We can then iterate over the file and store the content into a variable."
   ]
  },
  {
   "cell_type": "code",
   "execution_count": 1,
   "metadata": {
    "ExecuteTime": {
     "end_time": "2018-10-15T15:30:55.057545Z",
     "start_time": "2018-10-15T15:30:55.053161Z"
    }
   },
   "outputs": [],
   "source": [
    "import csv\n",
    "\n",
    "# we open the file as csv_reader object\n",
    "csv_reader = csv.reader(open('data.csv'), delimiter=',')\n",
    "\n",
    "# we iterate over the file and store the data into the data variable\n",
    "data = [row for row in csv_reader]"
   ]
  },
  {
   "cell_type": "markdown",
   "metadata": {},
   "source": [
    "Let's have a look at the beginning of the data."
   ]
  },
  {
   "cell_type": "code",
   "execution_count": 2,
   "metadata": {
    "ExecuteTime": {
     "end_time": "2018-10-15T15:30:55.372246Z",
     "start_time": "2018-10-15T15:30:55.353790Z"
    }
   },
   "outputs": [
    {
     "data": {
      "text/plain": [
       "[['# time value'],\n",
       " ['0.000000000000000000e+00', '5.055349461624634166e+00'],\n",
       " ['1.001001001001001062e-01', '5.810923125504510622e+00'],\n",
       " ['2.002002002002002123e-01', '2.945641125235900049e+00'],\n",
       " ['3.003003003003003046e-01', '3.182688928295160036e+00']]"
      ]
     },
     "execution_count": 2,
     "metadata": {},
     "output_type": "execute_result"
    }
   ],
   "source": [
    "data[:5]"
   ]
  },
  {
   "cell_type": "markdown",
   "metadata": {},
   "source": [
    "# Task 1: mean value"
   ]
  },
  {
   "cell_type": "markdown",
   "metadata": {},
   "source": [
    "<div class='alert alert-block alert-info'>\n",
    "\n",
    "Task: <br>\n",
    "<ul>\n",
    "    <li>Write a function to calculate the mean value of the column `value`. </li>\n",
    "    <li>print the `mean`</li>\n",
    "</ul>\n",
    "\n",
    "</div>\n",
    "\n",
    "<div class='alert alert-warning'>\n",
    "Note: <br>\n",
    "<ul>\n",
    "    <li>get rid of the first line </li>\n",
    "    <li>take care of the wrong data type </li>\n",
    "</ul>\n",
    "</div>"
   ]
  },
  {
   "cell_type": "code",
   "execution_count": 3,
   "metadata": {
    "ExecuteTime": {
     "end_time": "2018-10-15T15:30:55.888682Z",
     "start_time": "2018-10-15T15:30:55.879393Z"
    }
   },
   "outputs": [],
   "source": [
    "#@solution\n",
    "def mean(alist):\n",
    "    # Type: (List[float]) -> float\n",
    "    \"\"\"\n",
    "    Function that returns the mean of a list\n",
    "    \n",
    "    Parameters\n",
    "    ----------\n",
    "    alist : List[float]\n",
    "        A list of floats\n",
    "    \n",
    "    Returns\n",
    "    -------\n",
    "    float\n",
    "        The mean value of the list\n",
    "    \"\"\"\n",
    "    mean = sum(alist) / len(alist)\n",
    "    return mean"
   ]
  },
  {
   "cell_type": "code",
   "execution_count": 4,
   "metadata": {
    "ExecuteTime": {
     "end_time": "2018-10-15T15:31:00.128714Z",
     "start_time": "2018-10-15T15:31:00.115218Z"
    }
   },
   "outputs": [],
   "source": [
    "#@solution\n",
    "# \n",
    "num_lines = len(data)\n",
    "time = []\n",
    "value = []\n",
    "for i in range(num_lines):\n",
    "    line = data[i]  # get the line\n",
    "    if i > 0:  # skip the first line\n",
    "        t = float(line[0])  # convert the first value of the list to a float\n",
    "        v = float(line[1])  # convert the second value of the list to a float\n",
    "        time.append(t)\n",
    "        value.append(v)"
   ]
  },
  {
   "cell_type": "code",
   "execution_count": 5,
   "metadata": {
    "ExecuteTime": {
     "end_time": "2018-10-15T15:31:00.353657Z",
     "start_time": "2018-10-15T15:31:00.346411Z"
    }
   },
   "outputs": [],
   "source": [
    "#@solution\n",
    "# Optimal solution\n",
    "# 1.) drop the first line of the data\n",
    "# 2.) Format the data to float\n",
    "data_formated = [[float(i) for i in line] for line in data[1:]]\n",
    "# assign the column 1 to time and column 2 to value using zip\n",
    "time, value = zip(*data_formated)"
   ]
  },
  {
   "cell_type": "code",
   "execution_count": 6,
   "metadata": {
    "ExecuteTime": {
     "end_time": "2018-10-15T15:31:00.796346Z",
     "start_time": "2018-10-15T15:31:00.787326Z"
    }
   },
   "outputs": [
    {
     "data": {
      "text/plain": [
       "4.147510664336155"
      ]
     },
     "execution_count": 6,
     "metadata": {},
     "output_type": "execute_result"
    }
   ],
   "source": [
    "#@solution\n",
    "mean(value)"
   ]
  },
  {
   "cell_type": "markdown",
   "metadata": {},
   "source": [
    "# Task 2: rolling window function\n",
    "\n",
    "A rolling window function is a quite usefull way to apply a certain function only on a subset of data, e.g. using the moving average to smooth a dataset.\n",
    "\n",
    "It moves a __window__ along your data and creates a final data set with the function applied to each window separately.\n",
    "\n",
    "### Example:\n",
    "Appling `sum` on a rolling window of size `3`.\n",
    "1. Divide the original list into windows (sublists).\n",
    "2. Apply the `sum` function onto each window.\n",
    "3. Store them into a final list.\n",
    "\n",
    "```text\n",
    "original    : [1, 2, 3, 4, 5, 6] \n",
    "windows     : [1, 2, 3], [2, 3, 4], [3, 4, 5], [4, 5, 6]\n",
    "rolling_sum : [6, 9, 12, 15]\n",
    "```\n"
   ]
  },
  {
   "cell_type": "markdown",
   "metadata": {
    "ExecuteTime": {
     "end_time": "2018-10-15T14:47:38.646512Z",
     "start_time": "2018-10-15T14:47:38.635884Z"
    }
   },
   "source": [
    "<div class='alert alert-block alert-info'>\n",
    "\n",
    "Task: <br>\n",
    "<ul>\n",
    "    <li>Create a function which calculates the rolling average of your data set.</li>\n",
    "    <li>The function should take a parameter for the window size (default size = 1).</li>\n",
    "    <li>Name the function `func_rolling_ave`.</li>\n",
    "</ul>\n",
    "\n",
    "</div>\n",
    "\n",
    "<div class='alert alert-warning'>\n",
    "Note: <br>\n",
    "<ul>\n",
    "    <li>Think about how the length of the final list is reduced since you are combining several frames into one value!</li>\n",
    "    <li>You can reuse your previous function.</li>\n",
    "</ul>\n",
    "</div>"
   ]
  },
  {
   "cell_type": "code",
   "execution_count": 7,
   "metadata": {
    "ExecuteTime": {
     "end_time": "2018-10-15T15:31:22.700925Z",
     "start_time": "2018-10-15T15:31:22.697691Z"
    }
   },
   "outputs": [],
   "source": [
    "#@solution\n",
    "# version 1\n",
    "window_size = 1\n",
    "\n",
    "# calculate the length of the new list\n",
    "stop_at = len(time) - window_size\n",
    "rolling_ave = []\n",
    "for i in range(stop_at+1):      \n",
    "    window = value[i:i+window_size]\n",
    "    rolling_ave += [ mean(window) ]"
   ]
  },
  {
   "cell_type": "code",
   "execution_count": 8,
   "metadata": {
    "ExecuteTime": {
     "end_time": "2018-10-15T15:31:24.539961Z",
     "start_time": "2018-10-15T15:31:24.537293Z"
    }
   },
   "outputs": [
    {
     "name": "stdout",
     "output_type": "stream",
     "text": [
      "Same values: True\n",
      "Same length: True\n"
     ]
    }
   ],
   "source": [
    "#@solution\n",
    "# TEST\n",
    "# the rolling average with a window of 1 should be the same then the original\n",
    "print(\"Same values:\", all([True if a == b else False\n",
    "                           for a, b in zip(rolling_ave, value)]))\n",
    "print(\"Same length:\", len(rolling_ave) == len(value))"
   ]
  },
  {
   "cell_type": "code",
   "execution_count": 9,
   "metadata": {
    "ExecuteTime": {
     "end_time": "2018-10-15T15:31:26.131981Z",
     "start_time": "2018-10-15T15:31:26.119726Z"
    }
   },
   "outputs": [],
   "source": [
    "#@solution\n",
    "# version 2\n",
    "def func_rolling_ave(alist, window_size=10):\n",
    "    \"\"\"super short function\"\"\"\n",
    "    return [mean(alist[i:i+window_size]) \n",
    "            for i in range(len(alist) - window_size + 1)]\n",
    "rolling_ave = func_rolling_ave(value)"
   ]
  },
  {
   "cell_type": "code",
   "execution_count": 10,
   "metadata": {
    "ExecuteTime": {
     "end_time": "2018-10-15T15:31:26.793397Z",
     "start_time": "2018-10-15T15:31:26.777210Z"
    }
   },
   "outputs": [
    {
     "name": "stdout",
     "output_type": "stream",
     "text": [
      "Same values: True\n",
      "Same length: True\n"
     ]
    }
   ],
   "source": [
    "#@solution\n",
    "# TEST\n",
    "# the rolling average with a window of 1 should be the same then the original\n",
    "print(\"Same values:\", all([True if a == b else False\n",
    "                           for a, b in zip(func_rolling_ave(value, 1), value)]))\n",
    "print(\"Same length:\", len(func_rolling_ave(value, 1)) == len(value))"
   ]
  },
  {
   "cell_type": "markdown",
   "metadata": {},
   "source": [
    "# Addtional\n",
    "##  Test if you did correctly"
   ]
  },
  {
   "cell_type": "markdown",
   "metadata": {},
   "source": [
    "This is a test you can run. Don't worry about the more complex expression it's just for testing. \n",
    "\n",
    "If you test your function with a `window_size` of `1` it should return the same as the input `value`.\n",
    "\n",
    "To run the test, set up the variables correctly\n",
    "* `how_ever_your_list_of_values_is_named` : your list of values\n",
    "* `func_rolling_ave` : name of your rolling average function\n",
    "\n",
    "It should return both times `True` if you did your task correctly.\n",
    "\n",
    "Note: you can get the same values but wrong length if your output array is too short but correct up to the end of the other."
   ]
  },
  {
   "cell_type": "code",
   "execution_count": 11,
   "metadata": {
    "ExecuteTime": {
     "end_time": "2018-10-15T15:44:54.496017Z",
     "start_time": "2018-10-15T15:44:54.490859Z"
    }
   },
   "outputs": [],
   "source": [
    "def test_function(list_of_values, function):\n",
    "    \"\"\"Some function to test your implementation\"\"\"\n",
    "    same_values = all([True if a == b else False\n",
    "                           for a, b in zip(function(list_of_values, 1), list_of_values)])\n",
    "    same_length = len(function(list_of_values, 1)) == len(list_of_values)\n",
    "    print(\"Same values:\", same_values)\n",
    "    print(\"Same length:\", same_length)\n",
    "    return same_values & same_length"
   ]
  },
  {
   "cell_type": "code",
   "execution_count": 12,
   "metadata": {
    "ExecuteTime": {
     "end_time": "2018-10-15T15:44:55.780040Z",
     "start_time": "2018-10-15T15:44:55.761270Z"
    }
   },
   "outputs": [
    {
     "name": "stdout",
     "output_type": "stream",
     "text": [
      "Same values: True\n",
      "Same length: True\n"
     ]
    },
    {
     "data": {
      "text/plain": [
       "True"
      ]
     },
     "execution_count": 12,
     "metadata": {},
     "output_type": "execute_result"
    }
   ],
   "source": [
    "test_function(list_of_values=value,  # REPLACE it with your name\n",
    "              function=func_rolling_ave,  # REPLACE it with your name\n",
    "             )"
   ]
  },
  {
   "cell_type": "markdown",
   "metadata": {},
   "source": [
    "##  Visualize your data\n",
    "\n",
    "This is a small teaser for the next day on how to plot your data.\n",
    "\n",
    "But it gives you a chance to understand what you done."
   ]
  },
  {
   "cell_type": "markdown",
   "metadata": {},
   "source": [
    "This calculates the rolling average of your data."
   ]
  },
  {
   "cell_type": "code",
   "execution_count": 13,
   "metadata": {
    "ExecuteTime": {
     "end_time": "2018-10-15T15:45:04.618610Z",
     "start_time": "2018-10-15T15:45:04.614303Z"
    }
   },
   "outputs": [],
   "source": [
    "window_size = 10\n",
    "rolling_ave = func_rolling_ave(value, 10)"
   ]
  },
  {
   "cell_type": "markdown",
   "metadata": {},
   "source": [
    "Now comes the stuff you will learn tomorrow on how to plot. Just execute the cells and look at the picture."
   ]
  },
  {
   "cell_type": "code",
   "execution_count": 14,
   "metadata": {
    "ExecuteTime": {
     "end_time": "2018-10-15T15:45:09.484815Z",
     "start_time": "2018-10-15T15:45:09.479712Z"
    }
   },
   "outputs": [],
   "source": [
    "import matplotlib.pyplot as plt\n",
    "%matplotlib inline"
   ]
  },
  {
   "cell_type": "code",
   "execution_count": 15,
   "metadata": {
    "ExecuteTime": {
     "end_time": "2018-10-15T15:45:10.978175Z",
     "start_time": "2018-10-15T15:45:10.782741Z"
    }
   },
   "outputs": [
    {
     "data": {
      "text/plain": [
       "<matplotlib.legend.Legend at 0x7f4d8b3becc0>"
      ]
     },
     "execution_count": 15,
     "metadata": {},
     "output_type": "execute_result"
    },
    {
     "data": {
      "image/png": "[encoded data removed]",
      "text/plain": [
       "<Figure size 432x288 with 1 Axes>"
      ]
     },
     "metadata": {},
     "output_type": "display_data"
    }
   ],
   "source": [
    "plt.plot(time, value, label='raw')\n",
    "plt.plot(time, [mean(value)]*len(time), label='mean')\n",
    "plt.plot(time[window_size-1:], rolling_ave, label='rolling window')\n",
    "plt.legend()"
   ]
  },
  {
   "cell_type": "markdown",
   "metadata": {},
   "source": [
    "## real use case\n",
    "\n",
    "The rolling average is usefull if you analyze stock market changes.\n",
    "* We are interested in the **adjust close** of the **DAX**.\n",
    "* Therefore, we read the column **adjust close** of the file 'GDAXI.csv'.\n",
    "* Print the mean value for the last year.\n",
    "* Calculate the rolling average.\n",
    "* Plot it in contrast to the non-smoothed data."
   ]
  },
  {
   "cell_type": "markdown",
   "metadata": {},
   "source": [
    "Load the data"
   ]
  },
  {
   "cell_type": "code",
   "execution_count": 16,
   "metadata": {
    "ExecuteTime": {
     "end_time": "2018-10-15T15:45:13.123053Z",
     "start_time": "2018-10-15T15:45:13.110422Z"
    }
   },
   "outputs": [],
   "source": [
    "import csv\n",
    "\n",
    "# we open the file as csv_reader object\n",
    "csv_reader = csv.reader(open('GDAXI.csv'), delimiter=',')\n",
    "\n",
    "# we iterate over the file and store the data into the data variable\n",
    "data = [row for row in csv_reader]\n",
    "\n",
    "# get the Adj Close of the file\n",
    "adj_close = [float(line[5]) for line in data[1:]]"
   ]
  },
  {
   "cell_type": "markdown",
   "metadata": {},
   "source": [
    "Calculate the average"
   ]
  },
  {
   "cell_type": "code",
   "execution_count": 17,
   "metadata": {
    "ExecuteTime": {
     "end_time": "2018-10-15T15:45:13.615779Z",
     "start_time": "2018-10-15T15:45:13.607332Z"
    }
   },
   "outputs": [
    {
     "name": "stdout",
     "output_type": "stream",
     "text": [
      "The mean value of the DAX (Oct 2017 - Oct 2018) : 12658.52\n"
     ]
    }
   ],
   "source": [
    "print(\"The mean value of the DAX (Oct 2017 - Oct 2018) :\", round(mean(adj_close), 3))"
   ]
  },
  {
   "cell_type": "markdown",
   "metadata": {},
   "source": [
    "Calculate and print the average."
   ]
  },
  {
   "cell_type": "code",
   "execution_count": 18,
   "metadata": {
    "ExecuteTime": {
     "end_time": "2018-10-15T15:45:16.026301Z",
     "start_time": "2018-10-15T15:45:16.024086Z"
    }
   },
   "outputs": [],
   "source": [
    "window_size = 10\n",
    "ave_adj_close = func_rolling_ave(adj_close, window_size)"
   ]
  },
  {
   "cell_type": "markdown",
   "metadata": {},
   "source": [
    "Plot the data"
   ]
  },
  {
   "cell_type": "code",
   "execution_count": 19,
   "metadata": {
    "ExecuteTime": {
     "end_time": "2018-10-15T15:45:16.564743Z",
     "start_time": "2018-10-15T15:45:16.414437Z"
    }
   },
   "outputs": [
    {
     "data": {
      "text/plain": [
       "<matplotlib.legend.Legend at 0x7f4dc009fda0>"
      ]
     },
     "execution_count": 19,
     "metadata": {},
     "output_type": "execute_result"
    },
    {
     "data": {
      "image/png": "[encoded data removed]",
      "text/plain": [
       "<Figure size 432x288 with 1 Axes>"
      ]
     },
     "metadata": {},
     "output_type": "display_data"
    }
   ],
   "source": [
    "plt.plot(adj_close, label='raw')\n",
    "plt.plot([mean(adj_close)]*len(adj_close), label='mean')\n",
    "plt.plot(ave_adj_close, label='rolling window')\n",
    "plt.legend()"
   ]
  },
  {
   "cell_type": "code",
   "execution_count": null,
   "metadata": {},
   "outputs": [],
   "source": []
  }
 ],
 "metadata": {
  "kernelspec": {
   "display_name": "Python 3",
   "language": "python",
   "name": "python3"
  },
  "language_info": {
   "codemirror_mode": {
    "name": "ipython",
    "version": 3
   },
   "file_extension": ".py",
   "mimetype": "text/x-python",
   "name": "python",
   "nbconvert_exporter": "python",
   "pygments_lexer": "ipython3",
   "version": "3.5.2"
  },
  "toc": {
   "base_numbering": 1,
   "nav_menu": {},
   "number_sections": true,
   "sideBar": true,
   "skip_h1_title": false,
   "title_cell": "Table of Contents",
   "title_sidebar": "Contents",
   "toc_cell": false,
   "toc_position": {
    "height": "calc(100% - 180px)",
    "left": "10px",
    "top": "150px",
    "width": "487.267px"
   },
   "toc_section_display": true,
   "toc_window_display": true
  }
 },
 "nbformat": 4,
 "nbformat_minor": 2
}
